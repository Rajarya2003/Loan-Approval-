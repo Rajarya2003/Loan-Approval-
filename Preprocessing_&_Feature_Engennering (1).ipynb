{
 "cells": [
  {
   "cell_type": "markdown",
   "id": "d7a3ba5f-2759-4ed3-a2aa-89a99fe0d191",
   "metadata": {},
   "source": [
    "### Important Features\n",
    "- Based on the insights gained from our EDA process, the following features have been identified as important for classifying customers as low-risk or high-risk:\n",
    "\n",
    "- Experience\n",
    "- Current Job Years (CURRENT_JOB_YRS)\n",
    "- House Ownership\n",
    "- State (STATE)\n",
    "- Income\n",
    "- Age\n",
    "- Current House Years (current_house_years)\n",
    "\n",
    "#### we can select only one feature from Experience and Current Job Years because they both are highlly correlated features.\n"
   ]
  },
  {
   "cell_type": "code",
   "execution_count": 1,
   "id": "9573a137-cc26-41ab-8863-fab4098b076c",
   "metadata": {},
   "outputs": [],
   "source": [
    "import pandas as pd\n",
    "import numpy as np\n",
    "from sklearn.preprocessing import StandardScaler,OneHotEncoder\n",
    "from sklearn.model_selection import train_test_split\n",
    "from imblearn.over_sampling import SMOTE"
   ]
  },
  {
   "cell_type": "code",
   "execution_count": 2,
   "id": "fd30dd57-497d-4b2a-bbd5-4a6b787a95b5",
   "metadata": {},
   "outputs": [
    {
     "data": {
      "text/html": [
       "<div>\n",
       "<style scoped>\n",
       "    .dataframe tbody tr th:only-of-type {\n",
       "        vertical-align: middle;\n",
       "    }\n",
       "\n",
       "    .dataframe tbody tr th {\n",
       "        vertical-align: top;\n",
       "    }\n",
       "\n",
       "    .dataframe thead th {\n",
       "        text-align: right;\n",
       "    }\n",
       "</style>\n",
       "<table border=\"1\" class=\"dataframe\">\n",
       "  <thead>\n",
       "    <tr style=\"text-align: right;\">\n",
       "      <th></th>\n",
       "      <th>Id</th>\n",
       "      <th>Income</th>\n",
       "      <th>Age</th>\n",
       "      <th>Experience</th>\n",
       "      <th>Married/Single</th>\n",
       "      <th>House_Ownership</th>\n",
       "      <th>Car_Ownership</th>\n",
       "      <th>Profession</th>\n",
       "      <th>CITY</th>\n",
       "      <th>STATE</th>\n",
       "      <th>CURRENT_JOB_YRS</th>\n",
       "      <th>CURRENT_HOUSE_YRS</th>\n",
       "      <th>Risk_Flag</th>\n",
       "    </tr>\n",
       "  </thead>\n",
       "  <tbody>\n",
       "    <tr>\n",
       "      <th>0</th>\n",
       "      <td>1</td>\n",
       "      <td>1303834</td>\n",
       "      <td>23</td>\n",
       "      <td>3</td>\n",
       "      <td>single</td>\n",
       "      <td>rented</td>\n",
       "      <td>no</td>\n",
       "      <td>Mechanical_engineer</td>\n",
       "      <td>Rewa</td>\n",
       "      <td>Madhya_Pradesh</td>\n",
       "      <td>3</td>\n",
       "      <td>13</td>\n",
       "      <td>0</td>\n",
       "    </tr>\n",
       "    <tr>\n",
       "      <th>1</th>\n",
       "      <td>2</td>\n",
       "      <td>7574516</td>\n",
       "      <td>40</td>\n",
       "      <td>10</td>\n",
       "      <td>single</td>\n",
       "      <td>rented</td>\n",
       "      <td>no</td>\n",
       "      <td>Software_Developer</td>\n",
       "      <td>Parbhani</td>\n",
       "      <td>Maharashtra</td>\n",
       "      <td>9</td>\n",
       "      <td>13</td>\n",
       "      <td>0</td>\n",
       "    </tr>\n",
       "    <tr>\n",
       "      <th>2</th>\n",
       "      <td>3</td>\n",
       "      <td>3991815</td>\n",
       "      <td>66</td>\n",
       "      <td>4</td>\n",
       "      <td>married</td>\n",
       "      <td>rented</td>\n",
       "      <td>no</td>\n",
       "      <td>Technical_writer</td>\n",
       "      <td>Alappuzha</td>\n",
       "      <td>Kerala</td>\n",
       "      <td>4</td>\n",
       "      <td>10</td>\n",
       "      <td>0</td>\n",
       "    </tr>\n",
       "  </tbody>\n",
       "</table>\n",
       "</div>"
      ],
      "text/plain": [
       "   Id   Income  Age  Experience Married/Single House_Ownership Car_Ownership  \\\n",
       "0   1  1303834   23           3         single          rented            no   \n",
       "1   2  7574516   40          10         single          rented            no   \n",
       "2   3  3991815   66           4        married          rented            no   \n",
       "\n",
       "            Profession       CITY           STATE  CURRENT_JOB_YRS  \\\n",
       "0  Mechanical_engineer       Rewa  Madhya_Pradesh                3   \n",
       "1   Software_Developer   Parbhani     Maharashtra                9   \n",
       "2     Technical_writer  Alappuzha          Kerala                4   \n",
       "\n",
       "   CURRENT_HOUSE_YRS  Risk_Flag  \n",
       "0                 13          0  \n",
       "1                 13          0  \n",
       "2                 10          0  "
      ]
     },
     "execution_count": 2,
     "metadata": {},
     "output_type": "execute_result"
    }
   ],
   "source": [
    "df = pd.read_json(\"loan_approval_dataset.json.zip\")\n",
    "df.head(3)"
   ]
  },
  {
   "cell_type": "markdown",
   "id": "523ee7af-126f-4a04-884f-2f29f9618ca4",
   "metadata": {},
   "source": [
    "# Select Important Features\n",
    "-  we can select some important feature that we can find relavent from EDA"
   ]
  },
  {
   "cell_type": "code",
   "execution_count": 3,
   "id": "349afad5-dfe9-471e-8621-46151948e2d9",
   "metadata": {},
   "outputs": [],
   "source": [
    "important_features = ['CURRENT_JOB_YRS', 'House_Ownership', 'STATE', 'Income', 'Age', 'CURRENT_HOUSE_YRS', 'Risk_Flag']\n",
    "\n",
    "data_selected = df[important_features]"
   ]
  },
  {
   "cell_type": "code",
   "execution_count": 4,
   "id": "ab30010a-d638-45a8-82fb-94f0eb4cdc7f",
   "metadata": {},
   "outputs": [
    {
     "data": {
      "text/html": [
       "<div>\n",
       "<style scoped>\n",
       "    .dataframe tbody tr th:only-of-type {\n",
       "        vertical-align: middle;\n",
       "    }\n",
       "\n",
       "    .dataframe tbody tr th {\n",
       "        vertical-align: top;\n",
       "    }\n",
       "\n",
       "    .dataframe thead th {\n",
       "        text-align: right;\n",
       "    }\n",
       "</style>\n",
       "<table border=\"1\" class=\"dataframe\">\n",
       "  <thead>\n",
       "    <tr style=\"text-align: right;\">\n",
       "      <th></th>\n",
       "      <th>CURRENT_JOB_YRS</th>\n",
       "      <th>House_Ownership</th>\n",
       "      <th>STATE</th>\n",
       "      <th>Income</th>\n",
       "      <th>Age</th>\n",
       "      <th>CURRENT_HOUSE_YRS</th>\n",
       "      <th>Risk_Flag</th>\n",
       "    </tr>\n",
       "  </thead>\n",
       "  <tbody>\n",
       "    <tr>\n",
       "      <th>0</th>\n",
       "      <td>3</td>\n",
       "      <td>rented</td>\n",
       "      <td>Madhya_Pradesh</td>\n",
       "      <td>1303834</td>\n",
       "      <td>23</td>\n",
       "      <td>13</td>\n",
       "      <td>0</td>\n",
       "    </tr>\n",
       "    <tr>\n",
       "      <th>1</th>\n",
       "      <td>9</td>\n",
       "      <td>rented</td>\n",
       "      <td>Maharashtra</td>\n",
       "      <td>7574516</td>\n",
       "      <td>40</td>\n",
       "      <td>13</td>\n",
       "      <td>0</td>\n",
       "    </tr>\n",
       "    <tr>\n",
       "      <th>2</th>\n",
       "      <td>4</td>\n",
       "      <td>rented</td>\n",
       "      <td>Kerala</td>\n",
       "      <td>3991815</td>\n",
       "      <td>66</td>\n",
       "      <td>10</td>\n",
       "      <td>0</td>\n",
       "    </tr>\n",
       "  </tbody>\n",
       "</table>\n",
       "</div>"
      ],
      "text/plain": [
       "   CURRENT_JOB_YRS House_Ownership           STATE   Income  Age  \\\n",
       "0                3          rented  Madhya_Pradesh  1303834   23   \n",
       "1                9          rented     Maharashtra  7574516   40   \n",
       "2                4          rented          Kerala  3991815   66   \n",
       "\n",
       "   CURRENT_HOUSE_YRS  Risk_Flag  \n",
       "0                 13          0  \n",
       "1                 13          0  \n",
       "2                 10          0  "
      ]
     },
     "execution_count": 4,
     "metadata": {},
     "output_type": "execute_result"
    }
   ],
   "source": [
    "data_selected.head(3)"
   ]
  },
  {
   "cell_type": "code",
   "execution_count": 5,
   "id": "0b83ad77-07c0-4bd4-98e9-747c016fcda6",
   "metadata": {},
   "outputs": [
    {
     "name": "stdout",
     "output_type": "stream",
     "text": [
      "<class 'pandas.core.frame.DataFrame'>\n",
      "Index: 252000 entries, 0 to 251999\n",
      "Data columns (total 7 columns):\n",
      " #   Column             Non-Null Count   Dtype \n",
      "---  ------             --------------   ----- \n",
      " 0   CURRENT_JOB_YRS    252000 non-null  int64 \n",
      " 1   House_Ownership    252000 non-null  object\n",
      " 2   STATE              252000 non-null  object\n",
      " 3   Income             252000 non-null  int64 \n",
      " 4   Age                252000 non-null  int64 \n",
      " 5   CURRENT_HOUSE_YRS  252000 non-null  int64 \n",
      " 6   Risk_Flag          252000 non-null  int64 \n",
      "dtypes: int64(5), object(2)\n",
      "memory usage: 15.4+ MB\n"
     ]
    }
   ],
   "source": [
    "data_selected.info()"
   ]
  },
  {
   "cell_type": "code",
   "execution_count": 6,
   "id": "08d12251-93a2-4085-b6cb-346e4db2f9cc",
   "metadata": {},
   "outputs": [
    {
     "data": {
      "text/plain": [
       "CURRENT_JOB_YRS      0\n",
       "House_Ownership      0\n",
       "STATE                0\n",
       "Income               0\n",
       "Age                  0\n",
       "CURRENT_HOUSE_YRS    0\n",
       "Risk_Flag            0\n",
       "dtype: int64"
      ]
     },
     "execution_count": 6,
     "metadata": {},
     "output_type": "execute_result"
    }
   ],
   "source": [
    "data_selected.isnull().sum()   # no nan values."
   ]
  },
  {
   "cell_type": "markdown",
   "id": "5d116190-2269-4af8-8781-1ed1d167a83f",
   "metadata": {},
   "source": [
    "# Feauture Engeenering"
   ]
  },
  {
   "cell_type": "code",
   "execution_count": 7,
   "id": "5c67a629-0b8e-4265-9bc9-bd2d5cd45bac",
   "metadata": {},
   "outputs": [
    {
     "name": "stderr",
     "output_type": "stream",
     "text": [
      "C:\\Users\\HP\\AppData\\Local\\Temp\\ipykernel_8072\\1483552079.py:3: SettingWithCopyWarning: \n",
      "A value is trying to be set on a copy of a slice from a DataFrame.\n",
      "Try using .loc[row_indexer,col_indexer] = value instead\n",
      "\n",
      "See the caveats in the documentation: https://pandas.pydata.org/pandas-docs/stable/user_guide/indexing.html#returning-a-view-versus-a-copy\n",
      "  data_selected['Income_Per_Age'] = data_selected['Income'] / (data_selected['Age'] + 1)\n"
     ]
    }
   ],
   "source": [
    "# A high-income-to-age ratio may indicate financial security, which correlates with lower risk.\n",
    "# Add Income Per Age feature\n",
    "data_selected['Income_Per_Age'] = data_selected['Income'] / (data_selected['Age'] + 1)\n"
   ]
  },
  {
   "cell_type": "code",
   "execution_count": 8,
   "id": "740f624e-6795-4b75-a46f-925bcafacddf",
   "metadata": {},
   "outputs": [
    {
     "name": "stderr",
     "output_type": "stream",
     "text": [
      "C:\\Users\\HP\\AppData\\Local\\Temp\\ipykernel_8072\\2183960598.py:4: SettingWithCopyWarning: \n",
      "A value is trying to be set on a copy of a slice from a DataFrame.\n",
      "Try using .loc[row_indexer,col_indexer] = value instead\n",
      "\n",
      "See the caveats in the documentation: https://pandas.pydata.org/pandas-docs/stable/user_guide/indexing.html#returning-a-view-versus-a-copy\n",
      "  data_selected['Job_House_Stability'] = data_selected['CURRENT_JOB_YRS'] / (data_selected['CURRENT_HOUSE_YRS'] + 1)\n"
     ]
    }
   ],
   "source": [
    "#This feature measures the ratio of years in a job to years in a house, providing insights into stability and consistency.\n",
    "# Why: Higher stability often correlates with lower risk.\n",
    "# Add Job-Household Stability Ratio feature\n",
    "data_selected['Job_House_Stability'] = data_selected['CURRENT_JOB_YRS'] / (data_selected['CURRENT_HOUSE_YRS'] + 1)\n"
   ]
  },
  {
   "cell_type": "markdown",
   "id": "559f1b19-df5a-4452-a6c1-281e2b0cf27d",
   "metadata": {},
   "source": [
    "# Encode Categorical Variables"
   ]
  },
  {
   "cell_type": "code",
   "execution_count": 9,
   "id": "ff6a8223-ca82-44ef-afe1-2bf9339b77ae",
   "metadata": {},
   "outputs": [],
   "source": [
    "def encode_categorical(data):\n",
    "    cat_cols = data.select_dtypes(include=['object']).columns\n",
    "    if len(cat_cols) >0:\n",
    "        encoder = OneHotEncoder(drop='first',sparse_output=False)\n",
    "        encoded_cols = pd.DataFrame(\n",
    "                       encoder.fit_transform(data[cat_cols]),\n",
    "                       columns = encoder.get_feature_names_out(cat_cols),\n",
    "                       index = data.index\n",
    "        )\n",
    "\n",
    "        # Now combine the encoded columns with the rest of the data_selected dataset\n",
    "        data = pd.concat([data.drop(columns=cat_cols),encoded_cols],axis=1)\n",
    "        return data\n",
    "\n",
    "# Apply encoding\n",
    "data_selected = encode_categorical(data_selected)"
   ]
  },
  {
   "cell_type": "code",
   "execution_count": 10,
   "id": "cefbfca3-842e-48e3-b0d4-065fd9878007",
   "metadata": {},
   "outputs": [
    {
     "data": {
      "text/html": [
       "<div>\n",
       "<style scoped>\n",
       "    .dataframe tbody tr th:only-of-type {\n",
       "        vertical-align: middle;\n",
       "    }\n",
       "\n",
       "    .dataframe tbody tr th {\n",
       "        vertical-align: top;\n",
       "    }\n",
       "\n",
       "    .dataframe thead th {\n",
       "        text-align: right;\n",
       "    }\n",
       "</style>\n",
       "<table border=\"1\" class=\"dataframe\">\n",
       "  <thead>\n",
       "    <tr style=\"text-align: right;\">\n",
       "      <th></th>\n",
       "      <th>CURRENT_JOB_YRS</th>\n",
       "      <th>Income</th>\n",
       "      <th>Age</th>\n",
       "      <th>CURRENT_HOUSE_YRS</th>\n",
       "      <th>Risk_Flag</th>\n",
       "      <th>Income_Per_Age</th>\n",
       "      <th>Job_House_Stability</th>\n",
       "      <th>House_Ownership_owned</th>\n",
       "      <th>House_Ownership_rented</th>\n",
       "      <th>STATE_Assam</th>\n",
       "      <th>...</th>\n",
       "      <th>STATE_Punjab</th>\n",
       "      <th>STATE_Rajasthan</th>\n",
       "      <th>STATE_Sikkim</th>\n",
       "      <th>STATE_Tamil_Nadu</th>\n",
       "      <th>STATE_Telangana</th>\n",
       "      <th>STATE_Tripura</th>\n",
       "      <th>STATE_Uttar_Pradesh</th>\n",
       "      <th>STATE_Uttar_Pradesh[5]</th>\n",
       "      <th>STATE_Uttarakhand</th>\n",
       "      <th>STATE_West_Bengal</th>\n",
       "    </tr>\n",
       "  </thead>\n",
       "  <tbody>\n",
       "    <tr>\n",
       "      <th>0</th>\n",
       "      <td>3</td>\n",
       "      <td>1303834</td>\n",
       "      <td>23</td>\n",
       "      <td>13</td>\n",
       "      <td>0</td>\n",
       "      <td>54326.416667</td>\n",
       "      <td>0.214286</td>\n",
       "      <td>0.0</td>\n",
       "      <td>1.0</td>\n",
       "      <td>0.0</td>\n",
       "      <td>...</td>\n",
       "      <td>0.0</td>\n",
       "      <td>0.0</td>\n",
       "      <td>0.0</td>\n",
       "      <td>0.0</td>\n",
       "      <td>0.0</td>\n",
       "      <td>0.0</td>\n",
       "      <td>0.0</td>\n",
       "      <td>0.0</td>\n",
       "      <td>0.0</td>\n",
       "      <td>0.0</td>\n",
       "    </tr>\n",
       "  </tbody>\n",
       "</table>\n",
       "<p>1 rows × 37 columns</p>\n",
       "</div>"
      ],
      "text/plain": [
       "   CURRENT_JOB_YRS   Income  Age  CURRENT_HOUSE_YRS  Risk_Flag  \\\n",
       "0                3  1303834   23                 13          0   \n",
       "\n",
       "   Income_Per_Age  Job_House_Stability  House_Ownership_owned  \\\n",
       "0    54326.416667             0.214286                    0.0   \n",
       "\n",
       "   House_Ownership_rented  STATE_Assam  ...  STATE_Punjab  STATE_Rajasthan  \\\n",
       "0                     1.0          0.0  ...           0.0              0.0   \n",
       "\n",
       "   STATE_Sikkim  STATE_Tamil_Nadu  STATE_Telangana  STATE_Tripura  \\\n",
       "0           0.0               0.0              0.0            0.0   \n",
       "\n",
       "   STATE_Uttar_Pradesh  STATE_Uttar_Pradesh[5]  STATE_Uttarakhand  \\\n",
       "0                  0.0                     0.0                0.0   \n",
       "\n",
       "   STATE_West_Bengal  \n",
       "0                0.0  \n",
       "\n",
       "[1 rows x 37 columns]"
      ]
     },
     "execution_count": 10,
     "metadata": {},
     "output_type": "execute_result"
    }
   ],
   "source": [
    "data_selected.head(1)"
   ]
  },
  {
   "cell_type": "code",
   "execution_count": 11,
   "id": "eae4ae67-21a6-46f0-8758-0b1e5f1c33cc",
   "metadata": {
    "scrolled": true
   },
   "outputs": [
    {
     "data": {
      "text/html": [
       "<div>\n",
       "<style scoped>\n",
       "    .dataframe tbody tr th:only-of-type {\n",
       "        vertical-align: middle;\n",
       "    }\n",
       "\n",
       "    .dataframe tbody tr th {\n",
       "        vertical-align: top;\n",
       "    }\n",
       "\n",
       "    .dataframe thead th {\n",
       "        text-align: right;\n",
       "    }\n",
       "</style>\n",
       "<table border=\"1\" class=\"dataframe\">\n",
       "  <thead>\n",
       "    <tr style=\"text-align: right;\">\n",
       "      <th></th>\n",
       "      <th>CURRENT_JOB_YRS</th>\n",
       "      <th>Income</th>\n",
       "      <th>Age</th>\n",
       "      <th>CURRENT_HOUSE_YRS</th>\n",
       "      <th>Risk_Flag</th>\n",
       "      <th>Income_Per_Age</th>\n",
       "      <th>Job_House_Stability</th>\n",
       "      <th>House_Ownership_owned</th>\n",
       "      <th>House_Ownership_rented</th>\n",
       "      <th>STATE_Assam</th>\n",
       "      <th>...</th>\n",
       "      <th>STATE_Punjab</th>\n",
       "      <th>STATE_Rajasthan</th>\n",
       "      <th>STATE_Sikkim</th>\n",
       "      <th>STATE_Tamil_Nadu</th>\n",
       "      <th>STATE_Telangana</th>\n",
       "      <th>STATE_Tripura</th>\n",
       "      <th>STATE_Uttar_Pradesh</th>\n",
       "      <th>STATE_Uttar_Pradesh[5]</th>\n",
       "      <th>STATE_Uttarakhand</th>\n",
       "      <th>STATE_West_Bengal</th>\n",
       "    </tr>\n",
       "  </thead>\n",
       "  <tbody>\n",
       "    <tr>\n",
       "      <th>0</th>\n",
       "      <td>3</td>\n",
       "      <td>1303834</td>\n",
       "      <td>23</td>\n",
       "      <td>13</td>\n",
       "      <td>0</td>\n",
       "      <td>54326.416667</td>\n",
       "      <td>0.214286</td>\n",
       "      <td>0.0</td>\n",
       "      <td>1.0</td>\n",
       "      <td>0.0</td>\n",
       "      <td>...</td>\n",
       "      <td>0.0</td>\n",
       "      <td>0.0</td>\n",
       "      <td>0.0</td>\n",
       "      <td>0.0</td>\n",
       "      <td>0.0</td>\n",
       "      <td>0.0</td>\n",
       "      <td>0.0</td>\n",
       "      <td>0.0</td>\n",
       "      <td>0.0</td>\n",
       "      <td>0.0</td>\n",
       "    </tr>\n",
       "    <tr>\n",
       "      <th>1</th>\n",
       "      <td>9</td>\n",
       "      <td>7574516</td>\n",
       "      <td>40</td>\n",
       "      <td>13</td>\n",
       "      <td>0</td>\n",
       "      <td>184744.292683</td>\n",
       "      <td>0.642857</td>\n",
       "      <td>0.0</td>\n",
       "      <td>1.0</td>\n",
       "      <td>0.0</td>\n",
       "      <td>...</td>\n",
       "      <td>0.0</td>\n",
       "      <td>0.0</td>\n",
       "      <td>0.0</td>\n",
       "      <td>0.0</td>\n",
       "      <td>0.0</td>\n",
       "      <td>0.0</td>\n",
       "      <td>0.0</td>\n",
       "      <td>0.0</td>\n",
       "      <td>0.0</td>\n",
       "      <td>0.0</td>\n",
       "    </tr>\n",
       "    <tr>\n",
       "      <th>2</th>\n",
       "      <td>4</td>\n",
       "      <td>3991815</td>\n",
       "      <td>66</td>\n",
       "      <td>10</td>\n",
       "      <td>0</td>\n",
       "      <td>59579.328358</td>\n",
       "      <td>0.363636</td>\n",
       "      <td>0.0</td>\n",
       "      <td>1.0</td>\n",
       "      <td>0.0</td>\n",
       "      <td>...</td>\n",
       "      <td>0.0</td>\n",
       "      <td>0.0</td>\n",
       "      <td>0.0</td>\n",
       "      <td>0.0</td>\n",
       "      <td>0.0</td>\n",
       "      <td>0.0</td>\n",
       "      <td>0.0</td>\n",
       "      <td>0.0</td>\n",
       "      <td>0.0</td>\n",
       "      <td>0.0</td>\n",
       "    </tr>\n",
       "    <tr>\n",
       "      <th>3</th>\n",
       "      <td>2</td>\n",
       "      <td>6256451</td>\n",
       "      <td>41</td>\n",
       "      <td>12</td>\n",
       "      <td>1</td>\n",
       "      <td>148963.119048</td>\n",
       "      <td>0.153846</td>\n",
       "      <td>0.0</td>\n",
       "      <td>1.0</td>\n",
       "      <td>0.0</td>\n",
       "      <td>...</td>\n",
       "      <td>0.0</td>\n",
       "      <td>0.0</td>\n",
       "      <td>0.0</td>\n",
       "      <td>0.0</td>\n",
       "      <td>0.0</td>\n",
       "      <td>0.0</td>\n",
       "      <td>0.0</td>\n",
       "      <td>0.0</td>\n",
       "      <td>0.0</td>\n",
       "      <td>0.0</td>\n",
       "    </tr>\n",
       "    <tr>\n",
       "      <th>4</th>\n",
       "      <td>3</td>\n",
       "      <td>5768871</td>\n",
       "      <td>47</td>\n",
       "      <td>14</td>\n",
       "      <td>1</td>\n",
       "      <td>120184.812500</td>\n",
       "      <td>0.200000</td>\n",
       "      <td>0.0</td>\n",
       "      <td>1.0</td>\n",
       "      <td>0.0</td>\n",
       "      <td>...</td>\n",
       "      <td>0.0</td>\n",
       "      <td>0.0</td>\n",
       "      <td>0.0</td>\n",
       "      <td>1.0</td>\n",
       "      <td>0.0</td>\n",
       "      <td>0.0</td>\n",
       "      <td>0.0</td>\n",
       "      <td>0.0</td>\n",
       "      <td>0.0</td>\n",
       "      <td>0.0</td>\n",
       "    </tr>\n",
       "  </tbody>\n",
       "</table>\n",
       "<p>5 rows × 37 columns</p>\n",
       "</div>"
      ],
      "text/plain": [
       "   CURRENT_JOB_YRS   Income  Age  CURRENT_HOUSE_YRS  Risk_Flag  \\\n",
       "0                3  1303834   23                 13          0   \n",
       "1                9  7574516   40                 13          0   \n",
       "2                4  3991815   66                 10          0   \n",
       "3                2  6256451   41                 12          1   \n",
       "4                3  5768871   47                 14          1   \n",
       "\n",
       "   Income_Per_Age  Job_House_Stability  House_Ownership_owned  \\\n",
       "0    54326.416667             0.214286                    0.0   \n",
       "1   184744.292683             0.642857                    0.0   \n",
       "2    59579.328358             0.363636                    0.0   \n",
       "3   148963.119048             0.153846                    0.0   \n",
       "4   120184.812500             0.200000                    0.0   \n",
       "\n",
       "   House_Ownership_rented  STATE_Assam  ...  STATE_Punjab  STATE_Rajasthan  \\\n",
       "0                     1.0          0.0  ...           0.0              0.0   \n",
       "1                     1.0          0.0  ...           0.0              0.0   \n",
       "2                     1.0          0.0  ...           0.0              0.0   \n",
       "3                     1.0          0.0  ...           0.0              0.0   \n",
       "4                     1.0          0.0  ...           0.0              0.0   \n",
       "\n",
       "   STATE_Sikkim  STATE_Tamil_Nadu  STATE_Telangana  STATE_Tripura  \\\n",
       "0           0.0               0.0              0.0            0.0   \n",
       "1           0.0               0.0              0.0            0.0   \n",
       "2           0.0               0.0              0.0            0.0   \n",
       "3           0.0               0.0              0.0            0.0   \n",
       "4           0.0               1.0              0.0            0.0   \n",
       "\n",
       "   STATE_Uttar_Pradesh  STATE_Uttar_Pradesh[5]  STATE_Uttarakhand  \\\n",
       "0                  0.0                     0.0                0.0   \n",
       "1                  0.0                     0.0                0.0   \n",
       "2                  0.0                     0.0                0.0   \n",
       "3                  0.0                     0.0                0.0   \n",
       "4                  0.0                     0.0                0.0   \n",
       "\n",
       "   STATE_West_Bengal  \n",
       "0                0.0  \n",
       "1                0.0  \n",
       "2                0.0  \n",
       "3                0.0  \n",
       "4                0.0  \n",
       "\n",
       "[5 rows x 37 columns]"
      ]
     },
     "execution_count": 11,
     "metadata": {},
     "output_type": "execute_result"
    }
   ],
   "source": [
    "data_selected.head()"
   ]
  },
  {
   "cell_type": "markdown",
   "id": "b1898e6d-3973-436b-8eaf-2f0bbf5d9ac8",
   "metadata": {},
   "source": [
    "# Split Data into Features and Target"
   ]
  },
  {
   "cell_type": "code",
   "execution_count": 12,
   "id": "7651fab7-c96f-4c9b-bf1c-779dfb2cb0a8",
   "metadata": {},
   "outputs": [],
   "source": [
    "# Seperate features and target\n",
    "X = data_selected.drop(columns=['Risk_Flag'],axis=1) # input variable\n",
    "y= data_selected['Risk_Flag'] # target variable"
   ]
  },
  {
   "cell_type": "code",
   "execution_count": 13,
   "id": "4c5db090-27ea-48bd-818f-55c990c4ec85",
   "metadata": {},
   "outputs": [],
   "source": [
    "# Split the data into training and testing sets\n",
    "X_train, X_test, y_train, y_test = train_test_split(X,y,test_size=0.2,random_state=42)"
   ]
  },
  {
   "cell_type": "markdown",
   "id": "698386a7-e275-454a-b326-5616fad7c145",
   "metadata": {},
   "source": [
    "# Scale Numerical Features"
   ]
  },
  {
   "cell_type": "code",
   "execution_count": 14,
   "id": "bdd519f5-6f63-4fcf-9e50-34c3f1cfa347",
   "metadata": {},
   "outputs": [],
   "source": [
    "from sklearn.preprocessing import StandardScaler\n",
    "\n",
    "def scale_numerical(data):\n",
    "    # Select only numerical columns to scale\n",
    "    num_cols = ['CURRENT_JOB_YRS', 'Income', 'Age', 'CURRENT_HOUSE_YRS']\n",
    "    \n",
    "    # Initialize the scaler\n",
    "    scaler = StandardScaler()\n",
    "    \n",
    "    # Apply scaling to the selected columns and update the DataFrame\n",
    "    data[num_cols] = scaler.fit_transform(data[num_cols])\n",
    "    \n",
    "    return data\n",
    "\n",
    "# Scale numerical features\n",
    "data_selected = scale_numerical(data_selected)\n"
   ]
  },
  {
   "cell_type": "markdown",
   "id": "2c3bb53e-0d7c-42b2-a478-43be8c7e14f4",
   "metadata": {},
   "source": [
    "# Handle Class Imbalance with SMOTE"
   ]
  },
  {
   "cell_type": "code",
   "execution_count": 15,
   "id": "a059afc1-44b5-4612-8ccb-ba4ea235dd6c",
   "metadata": {},
   "outputs": [],
   "source": [
    "def balance_classes(X,y):\n",
    "    smote = SMOTE(random_state=42)\n",
    "    X_balanced, y_balanced = smote.fit_resample(X,y)\n",
    "    return X_balanced, y_balanced\n",
    "\n",
    "# Apply SMOTE to balance classes\n",
    "X_train, y_train = balance_classes(X_train, y_train)"
   ]
  },
  {
   "cell_type": "markdown",
   "id": "80d6809c-360b-44aa-91aa-af020550708a",
   "metadata": {},
   "source": [
    "# Feature Engineering"
   ]
  },
  {
   "cell_type": "code",
   "execution_count": 16,
   "id": "f91b501f-90ad-4fb5-9e82-d0c7987d0dc5",
   "metadata": {},
   "outputs": [],
   "source": [
    "def engineer_features(data):\n",
    "    # Example: Create a derived feature (e.g., income-to-age ratio)\n",
    "    if 'Income' in data.columns and 'Age' in data.columns:\n",
    "        data['income_age_ratio'] = data['Income'] / (data['Age'] + 1)  # Avoid division by zero\n",
    "    \n",
    "    # Add more engineered features as needed\n",
    "    return data\n",
    "\n",
    "# Apply feature engineering\n",
    "X_train = engineer_features(X_train)\n",
    "X_test = engineer_features(X_test)\n"
   ]
  },
  {
   "cell_type": "code",
   "execution_count": 17,
   "id": "a3ab9912-4eb3-4b6d-a732-f23cfb5d75ff",
   "metadata": {},
   "outputs": [],
   "source": [
    "# Combine X_train (features) and y_train (target) after SMOTE into a single DataFrame\n",
    "train_balanced = pd.DataFrame(X_train, columns=X.columns)\n",
    "train_balanced['Risk_Flag'] = y_train"
   ]
  },
  {
   "cell_type": "code",
   "execution_count": 18,
   "id": "760c33c9-c44b-442c-907a-16c6ff156070",
   "metadata": {},
   "outputs": [],
   "source": [
    "# Combine X_test and y_test for the test set\n",
    "test_data = pd.DataFrame(X_test, columns=X.columns)\n",
    "test_data['Risk_Flag'] = y_test"
   ]
  },
  {
   "cell_type": "code",
   "execution_count": 19,
   "id": "42c6fc36-e1e5-4854-a117-bafb2d606d70",
   "metadata": {},
   "outputs": [],
   "source": [
    "# Save training and testing datasets\n",
    "train_balanced.to_csv('balanced_training_data_2.csv', index=False)\n",
    "test_data.to_csv('test_data_2.csv', index=False)"
   ]
  },
  {
   "cell_type": "code",
   "execution_count": null,
   "id": "9ca3d51f-dd4c-4bde-8cf3-fee6dfb7d1cd",
   "metadata": {},
   "outputs": [],
   "source": []
  }
 ],
 "metadata": {
  "kernelspec": {
   "display_name": "Python 3 (ipykernel)",
   "language": "python",
   "name": "python3"
  },
  "language_info": {
   "codemirror_mode": {
    "name": "ipython",
    "version": 3
   },
   "file_extension": ".py",
   "mimetype": "text/x-python",
   "name": "python",
   "nbconvert_exporter": "python",
   "pygments_lexer": "ipython3",
   "version": "3.12.4"
  }
 },
 "nbformat": 4,
 "nbformat_minor": 5
}
